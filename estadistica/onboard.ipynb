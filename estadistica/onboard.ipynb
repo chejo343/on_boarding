{
 "cells": [
  {
   "cell_type": "code",
   "execution_count": 7,
   "metadata": {},
   "outputs": [],
   "source": [
    "import pandas as pd\n",
    "import matplotlib.pyplot as plt\n",
    "from sqlalchemy import create_engine\n",
    "engine = create_engine('')"
   ]
  },
  {
   "cell_type": "code",
   "execution_count": 8,
   "metadata": {},
   "outputs": [
    {
     "data": {
      "text/html": [
       "<div>\n",
       "<style scoped>\n",
       "    .dataframe tbody tr th:only-of-type {\n",
       "        vertical-align: middle;\n",
       "    }\n",
       "\n",
       "    .dataframe tbody tr th {\n",
       "        vertical-align: top;\n",
       "    }\n",
       "\n",
       "    .dataframe thead th {\n",
       "        text-align: right;\n",
       "    }\n",
       "</style>\n",
       "<table border=\"1\" class=\"dataframe\">\n",
       "  <thead>\n",
       "    <tr style=\"text-align: right;\">\n",
       "      <th></th>\n",
       "      <th>IdRequerimiento</th>\n",
       "      <th>IdEmpleado</th>\n",
       "      <th>Completado</th>\n",
       "      <th>FechaCompletado</th>\n",
       "      <th>Descripcion</th>\n",
       "      <th>FechaCreo</th>\n",
       "      <th>Responsable</th>\n",
       "    </tr>\n",
       "  </thead>\n",
       "  <tbody>\n",
       "    <tr>\n",
       "      <th>0</th>\n",
       "      <td>6</td>\n",
       "      <td>3</td>\n",
       "      <td>1</td>\n",
       "      <td>2023-06-08 11:07:05</td>\n",
       "      <td>Botas industriales</td>\n",
       "      <td>2023-06-08 14:20:04</td>\n",
       "      <td>Juan Perez</td>\n",
       "    </tr>\n",
       "    <tr>\n",
       "      <th>1</th>\n",
       "      <td>7</td>\n",
       "      <td>3</td>\n",
       "      <td>1</td>\n",
       "      <td>2023-06-08 11:08:52</td>\n",
       "      <td>Set de herramientas</td>\n",
       "      <td>2023-06-08 14:20:19</td>\n",
       "      <td>Luis Perez</td>\n",
       "    </tr>\n",
       "    <tr>\n",
       "      <th>2</th>\n",
       "      <td>8</td>\n",
       "      <td>3</td>\n",
       "      <td>1</td>\n",
       "      <td>2023-06-08 11:08:56</td>\n",
       "      <td>Uniforme</td>\n",
       "      <td>2023-06-08 14:20:30</td>\n",
       "      <td>Ana Perez</td>\n",
       "    </tr>\n",
       "    <tr>\n",
       "      <th>3</th>\n",
       "      <td>9</td>\n",
       "      <td>3</td>\n",
       "      <td>1</td>\n",
       "      <td>2023-06-08 11:09:05</td>\n",
       "      <td>Multimetro</td>\n",
       "      <td>2023-06-08 14:20:43</td>\n",
       "      <td>Raul Perez</td>\n",
       "    </tr>\n",
       "    <tr>\n",
       "      <th>4</th>\n",
       "      <td>10</td>\n",
       "      <td>3</td>\n",
       "      <td>1</td>\n",
       "      <td>2023-06-08 11:09:09</td>\n",
       "      <td>Telefono</td>\n",
       "      <td>2023-06-08 14:20:54</td>\n",
       "      <td>Juan Perez</td>\n",
       "    </tr>\n",
       "  </tbody>\n",
       "</table>\n",
       "</div>"
      ],
      "text/plain": [
       "   IdRequerimiento  IdEmpleado  Completado     FechaCompletado  \\\n",
       "0                6           3           1 2023-06-08 11:07:05   \n",
       "1                7           3           1 2023-06-08 11:08:52   \n",
       "2                8           3           1 2023-06-08 11:08:56   \n",
       "3                9           3           1 2023-06-08 11:09:05   \n",
       "4               10           3           1 2023-06-08 11:09:09   \n",
       "\n",
       "           Descripcion           FechaCreo Responsable  \n",
       "0   Botas industriales 2023-06-08 14:20:04  Juan Perez  \n",
       "1  Set de herramientas 2023-06-08 14:20:19  Luis Perez  \n",
       "2             Uniforme 2023-06-08 14:20:30   Ana Perez  \n",
       "3           Multimetro 2023-06-08 14:20:43  Raul Perez  \n",
       "4             Telefono 2023-06-08 14:20:54  Juan Perez  "
      ]
     },
     "execution_count": 8,
     "metadata": {},
     "output_type": "execute_result"
    }
   ],
   "source": [
    "sql = '''\n",
    "SELECT\n",
    "  rp.IdRequerimiento,\n",
    "  rp.IdEmpleado,\n",
    "  rp.Completado,\n",
    "  rp.FechaCompletado,\n",
    "  rq.Descripcion,\n",
    "  rq.FechaCreo,\n",
    "  rs.Nombre AS Responsable\n",
    "FROM OBTRequerimientoEmpleado AS rp\n",
    "INNER JOIN OBTRequerimiento AS rq ON rq.IdRequerimiento = rp.IdRequerimiento\n",
    "INNER JOIN OBTResponsable AS rs ON rs.IdResponsable = rq.IdResponsable\n",
    "'''\n",
    "df = pd.read_sql_query(sql, engine)\n",
    "df.head()"
   ]
  },
  {
   "cell_type": "code",
   "execution_count": 10,
   "metadata": {},
   "outputs": [
    {
     "data": {
      "text/html": [
       "<div>\n",
       "<style scoped>\n",
       "    .dataframe tbody tr th:only-of-type {\n",
       "        vertical-align: middle;\n",
       "    }\n",
       "\n",
       "    .dataframe tbody tr th {\n",
       "        vertical-align: top;\n",
       "    }\n",
       "\n",
       "    .dataframe thead th {\n",
       "        text-align: right;\n",
       "    }\n",
       "</style>\n",
       "<table border=\"1\" class=\"dataframe\">\n",
       "  <thead>\n",
       "    <tr style=\"text-align: right;\">\n",
       "      <th></th>\n",
       "      <th>Completado</th>\n",
       "    </tr>\n",
       "  </thead>\n",
       "  <tbody>\n",
       "    <tr>\n",
       "      <th>count</th>\n",
       "      <td>4.00000</td>\n",
       "    </tr>\n",
       "    <tr>\n",
       "      <th>mean</th>\n",
       "      <td>1.50000</td>\n",
       "    </tr>\n",
       "    <tr>\n",
       "      <th>std</th>\n",
       "      <td>0.57735</td>\n",
       "    </tr>\n",
       "    <tr>\n",
       "      <th>min</th>\n",
       "      <td>1.00000</td>\n",
       "    </tr>\n",
       "    <tr>\n",
       "      <th>25%</th>\n",
       "      <td>1.00000</td>\n",
       "    </tr>\n",
       "    <tr>\n",
       "      <th>50%</th>\n",
       "      <td>1.50000</td>\n",
       "    </tr>\n",
       "    <tr>\n",
       "      <th>75%</th>\n",
       "      <td>2.00000</td>\n",
       "    </tr>\n",
       "    <tr>\n",
       "      <th>max</th>\n",
       "      <td>2.00000</td>\n",
       "    </tr>\n",
       "  </tbody>\n",
       "</table>\n",
       "</div>"
      ],
      "text/plain": [
       "       Completado\n",
       "count     4.00000\n",
       "mean      1.50000\n",
       "std       0.57735\n",
       "min       1.00000\n",
       "25%       1.00000\n",
       "50%       1.50000\n",
       "75%       2.00000\n",
       "max       2.00000"
      ]
     },
     "execution_count": 10,
     "metadata": {},
     "output_type": "execute_result"
    }
   ],
   "source": [
    "df_responsables = df.groupby(['Responsable'])['Completado'].sum().reset_index()\n",
    "df_responsables.describe()"
   ]
  },
  {
   "cell_type": "code",
   "execution_count": 11,
   "metadata": {},
   "outputs": [
    {
     "data": {
      "image/png": "[encoded data removed]",
      "text/plain": [
       "<Figure size 640x480 with 1 Axes>"
      ]
     },
     "metadata": {},
     "output_type": "display_data"
    }
   ],
   "source": [
    "plt.bar(df_responsables['Responsable'], df_responsables['Completado'])\n",
    "\n",
    "# Personalizar el gráfico\n",
    "plt.xlabel('Responsable')\n",
    "plt.ylabel('Completado')\n",
    "plt.title('Gráfico de recursos completados')\n",
    "\n",
    "# Mostrar el gráfico\n",
    "plt.show()"
   ]
  },
  {
   "cell_type": "code",
   "execution_count": 12,
   "metadata": {},
   "outputs": [
    {
     "name": "stdout",
     "output_type": "stream",
     "text": [
      "         Tiempo\n",
      "count  4.000000\n",
      "mean   2.989201\n",
      "std    0.416826\n",
      "min    2.364028\n",
      "25%    2.985590\n",
      "50%    3.193333\n",
      "75%    3.196944\n",
      "max    3.206111\n"
     ]
    },
    {
     "name": "stderr",
     "output_type": "stream",
     "text": [
      "C:\\Users\\sajanel\\AppData\\Local\\Temp\\ipykernel_9984\\3440887364.py:2: SettingWithCopyWarning: \n",
      "A value is trying to be set on a copy of a slice from a DataFrame.\n",
      "Try using .loc[row_indexer,col_indexer] = value instead\n",
      "\n",
      "See the caveats in the documentation: https://pandas.pydata.org/pandas-docs/stable/user_guide/indexing.html#returning-a-view-versus-a-copy\n",
      "  df_completado['Tiempo'] = (df_completado['FechaCreo'] - df_completado['FechaCompletado']).dt.total_seconds() / 3600\n"
     ]
    },
    {
     "data": {
      "image/png": "[encoded data removed]",
      "text/plain": [
       "<Figure size 640x480 with 1 Axes>"
      ]
     },
     "metadata": {},
     "output_type": "display_data"
    }
   ],
   "source": [
    "df_completado = df[df['Completado'] == 1]\n",
    "df_completado['Tiempo'] = (df_completado['FechaCreo'] - df_completado['FechaCompletado']).dt.total_seconds() / 3600\n",
    "df_tiempo = df_completado.groupby('Responsable')['Tiempo'].mean().reset_index().sort_values('Tiempo', ascending=True)\n",
    "print(df_tiempo.describe())\n",
    "plt.bar(df_tiempo['Responsable'], df_tiempo['Tiempo'])\n",
    "\n",
    "# Personalizar el gráfico\n",
    "plt.xlabel('Responsable')\n",
    "plt.ylabel('Tiempo (horas)')\n",
    "plt.title('Gráfico de recursos completados')\n",
    "\n",
    "# Mostrar el gráfico\n",
    "plt.show()"
   ]
  }
 ],
 "metadata": {
  "kernelspec": {
   "display_name": "apijup",
   "language": "python",
   "name": "python3"
  },
  "language_info": {
   "codemirror_mode": {
    "name": "ipython",
    "version": 3
   },
   "file_extension": ".py",
   "mimetype": "text/x-python",
   "name": "python",
   "nbconvert_exporter": "python",
   "pygments_lexer": "ipython3",
   "version": "3.9.16"
  },
  "orig_nbformat": 4
 },
 "nbformat": 4,
 "nbformat_minor": 2
}
